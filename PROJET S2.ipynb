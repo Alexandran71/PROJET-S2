{
 "cells": [
  {
   "cell_type": "code",
   "execution_count": 439,
   "metadata": {},
   "outputs": [],
   "source": [
    "import numpy as np\n",
    "import matplotlib.pyplot as plt\n",
    "from math import *\n",
    "from matplotlib.pylab import plot, arange, show\n",
    "from pylab import *"
   ]
  },
  {
   "cell_type": "markdown",
   "metadata": {},
   "source": [
    "En premier lieu on doit estimer w, le min de la fonction F"
   ]
  },
  {
   "cell_type": "markdown",
   "metadata": {},
   "source": [
    "# Initialisation de tous les éléments"
   ]
  },
  {
   "cell_type": "code",
   "execution_count": 704,
   "metadata": {},
   "outputs": [],
   "source": [
    "n=50 #taille de A=50\n",
    "d=2 #taille du vecteur w\n",
    "A_0 = np.linspace(1,25,25)\n",
    "A_1 = np.linspace(26,50,25) # A_0 et A_1 sont disjoints\n",
    "A = np.linspace(1,n,n)"
   ]
  },
  {
   "cell_type": "code",
   "execution_count": 676,
   "metadata": {},
   "outputs": [],
   "source": [
    "#Construction matrice de jeu de données (chaque ligne est un point x_a)\n",
    "X =np.eye(n,d)\n",
    "for i in range(n):\n",
    "    X[i]=np.random.rand(d)"
   ]
  },
  {
   "cell_type": "markdown",
   "metadata": {},
   "source": [
    "### Définiton fonction"
   ]
  },
  {
   "cell_type": "code",
   "execution_count": 724,
   "metadata": {},
   "outputs": [],
   "source": [
    "#Définition fonction sigma\n",
    "def sigma(t):\n",
    "    return exp(t)/(1+exp(t))"
   ]
  },
  {
   "cell_type": "code",
   "execution_count": 725,
   "metadata": {},
   "outputs": [],
   "source": [
    "#Définition fonction f_a_w\n",
    "def f(a,w):\n",
    "    t=np.vdot(w,X[a])\n",
    "    if a < 25: #si a appartient à A_0\n",
    "        return -log(1-sigma(t))\n",
    "    else:\n",
    "        return -log(sigma(t))"
   ]
  },
  {
   "cell_type": "code",
   "execution_count": 726,
   "metadata": {},
   "outputs": [],
   "source": [
    "#Définition somme fonction f_a_w\n",
    "def s_f(w):\n",
    "    s=0\n",
    "    for i in range(n):\n",
    "        s=s+f(i,w)\n",
    "    return s"
   ]
  },
  {
   "cell_type": "code",
   "execution_count": 727,
   "metadata": {},
   "outputs": [],
   "source": [
    "#Définition fonction F(w)\n",
    "def F(w):\n",
    "    return s_f(w) + (g/2)*(np.linalg.norm(w)**2) # g = gamma"
   ]
  },
  {
   "cell_type": "markdown",
   "metadata": {},
   "source": [
    "### Définition gradient"
   ]
  },
  {
   "cell_type": "code",
   "execution_count": 728,
   "metadata": {},
   "outputs": [],
   "source": [
    "#Définition gradient fonction f_a_w\n",
    "def grad_f(a,w):\n",
    "    t=np.vdot(w,X[a])\n",
    "    if a < 25: #si a appartient à A_0\n",
    "        y_a=0\n",
    "    else:\n",
    "        y_a=1\n",
    "    return (t-y_a)*X[a]"
   ]
  },
  {
   "cell_type": "code",
   "execution_count": 729,
   "metadata": {},
   "outputs": [],
   "source": [
    "#Définition somme gradient fonction f_a_w\n",
    "def grad_s_f(w):\n",
    "    s=0\n",
    "    for i in range(n):\n",
    "        s=s+grad_f(i,w)\n",
    "    return s"
   ]
  },
  {
   "cell_type": "code",
   "execution_count": 730,
   "metadata": {},
   "outputs": [],
   "source": [
    "#Définition gradient fonction F(w)\n",
    "def grad_F(w):\n",
    "    return grad_s_f(w) + g*w"
   ]
  },
  {
   "cell_type": "markdown",
   "metadata": {},
   "source": [
    "### Définition matrice Hessienne "
   ]
  },
  {
   "cell_type": "code",
   "execution_count": 731,
   "metadata": {},
   "outputs": [],
   "source": [
    "#Définition hessienne fonction f_a_w\n",
    "def h_f(a,w):\n",
    "    t=np.vdot(w,X[a])\n",
    "    return t*(1-t)*np.vdot(X[a],np.transpose(X[a]))"
   ]
  },
  {
   "cell_type": "code",
   "execution_count": 732,
   "metadata": {},
   "outputs": [],
   "source": [
    "# problème dans la multiplication du vecteur X[a] et X[a]^t"
   ]
  },
  {
   "cell_type": "code",
   "execution_count": 733,
   "metadata": {},
   "outputs": [],
   "source": [
    "#Définition somme hessienne fonction f_a_w\n",
    "def h_s_f(w):\n",
    "    s=0\n",
    "    for i in range(n):\n",
    "        s=s+h_f(i,w)\n",
    "    return s"
   ]
  },
  {
   "cell_type": "code",
   "execution_count": 734,
   "metadata": {},
   "outputs": [],
   "source": [
    "#Définition Hessienne fonction F(w)\n",
    "def h_F(w):\n",
    "    I=np.eye(d) #matrice identité_d\n",
    "    return h_s_f(w) + g*I"
   ]
  },
  {
   "cell_type": "markdown",
   "metadata": {},
   "source": [
    "## Etude du problème régularisé gamma>0"
   ]
  },
  {
   "cell_type": "code",
   "execution_count": 735,
   "metadata": {},
   "outputs": [],
   "source": [
    "g=2 #on choisit gamma"
   ]
  },
  {
   "cell_type": "markdown",
   "metadata": {},
   "source": [
    "### Descente du gradient à pas optimal"
   ]
  },
  {
   "cell_type": "code",
   "execution_count": 736,
   "metadata": {},
   "outputs": [
    {
     "name": "stdout",
     "output_type": "stream",
     "text": [
      "[4.82991609e+113 4.83061014e+113]\n",
      "[1.42966622e+115 1.42987166e+115]\n"
     ]
    },
    {
     "name": "stderr",
     "output_type": "stream",
     "text": [
      "C:\\Users\\Alexandra\\Anaconda3\\lib\\site-packages\\ipykernel_launcher.py:3: RuntimeWarning: invalid value encountered in double_scalars\n",
      "  This is separate from the ipykernel package so we can avoid doing imports until\n"
     ]
    },
    {
     "data": {
      "text/plain": [
       "nan"
      ]
     },
     "execution_count": 736,
     "metadata": {},
     "output_type": "execute_result"
    }
   ],
   "source": [
    "# Paramètres\n",
    "tol = 1e-5; it_max = 1e2; t = 0.1; c1 = 1e-3;\n",
    "\n",
    "# Initialisation\n",
    "alpha = 1/2\n",
    "w = np.ones(shape=d)\n",
    "d_d = -grad_F(w)\n",
    "it = 0\n",
    "\n",
    "# Pas d'Armijo\n",
    "while F(w+alpha*d_d) <= F(w) + c1*alpha*np.vdot(grad_F(w),d_d):\n",
    "    alpha = t*alpha\n",
    "alpha_k = alpha\n",
    "\n",
    "# Boucle\n",
    "while np.linalg.norm(grad_F(w)) > tol and it < it_max:\n",
    "    w = w + alpha_k*d_d\n",
    "    d_d = -grad_F(w)\n",
    "    it = it + 1 \n",
    "# Fin\n",
    "\n",
    "print(w)\n",
    "print(grad_F(w))\n",
    "F(w)"
   ]
  },
  {
   "cell_type": "code",
   "execution_count": 737,
   "metadata": {},
   "outputs": [],
   "source": [
    "# A un moment il y a une division par zéro, OU?\n",
    "# Pourquoi F(w) tend vers infini ? \n",
    "# Pour grad_F ne tend pas vers 0?"
   ]
  },
  {
   "cell_type": "markdown",
   "metadata": {},
   "source": [
    "### Méthode de Newton"
   ]
  },
  {
   "cell_type": "code",
   "execution_count": 738,
   "metadata": {},
   "outputs": [
    {
     "ename": "ValueError",
     "evalue": "cannot reshape array of size 2 into shape (4,)",
     "output_type": "error",
     "traceback": [
      "\u001b[1;31m---------------------------------------------------------------------------\u001b[0m",
      "\u001b[1;31mValueError\u001b[0m                                Traceback (most recent call last)",
      "\u001b[1;32m<ipython-input-738-3c86bd925a5c>\u001b[0m in \u001b[0;36m<module>\u001b[1;34m\u001b[0m\n\u001b[0;32m     10\u001b[0m \u001b[1;32mwhile\u001b[0m \u001b[0mnp\u001b[0m\u001b[1;33m.\u001b[0m\u001b[0mlinalg\u001b[0m\u001b[1;33m.\u001b[0m\u001b[0mnorm\u001b[0m\u001b[1;33m(\u001b[0m\u001b[0mgrad_F\u001b[0m\u001b[1;33m(\u001b[0m\u001b[0mw\u001b[0m\u001b[1;33m)\u001b[0m\u001b[1;33m)\u001b[0m \u001b[1;33m>\u001b[0m \u001b[0mtol\u001b[0m \u001b[1;32mand\u001b[0m \u001b[0mit\u001b[0m \u001b[1;33m<\u001b[0m \u001b[0mit_max\u001b[0m\u001b[1;33m:\u001b[0m\u001b[1;33m\u001b[0m\u001b[1;33m\u001b[0m\u001b[0m\n\u001b[0;32m     11\u001b[0m     \u001b[0mw\u001b[0m \u001b[1;33m=\u001b[0m \u001b[0mw\u001b[0m \u001b[1;33m+\u001b[0m \u001b[0md_d\u001b[0m\u001b[1;33m\u001b[0m\u001b[1;33m\u001b[0m\u001b[0m\n\u001b[1;32m---> 12\u001b[1;33m     \u001b[0md_d\u001b[0m\u001b[1;33m=\u001b[0m \u001b[1;33m-\u001b[0m\u001b[0mlinalg\u001b[0m\u001b[1;33m.\u001b[0m\u001b[0minv\u001b[0m\u001b[1;33m(\u001b[0m\u001b[0mh_F\u001b[0m\u001b[1;33m(\u001b[0m\u001b[0mw\u001b[0m\u001b[1;33m)\u001b[0m\u001b[1;33m)\u001b[0m\u001b[1;33m*\u001b[0m\u001b[0mgrad_F\u001b[0m\u001b[1;33m(\u001b[0m\u001b[0mw\u001b[0m\u001b[1;33m)\u001b[0m\u001b[1;33m\u001b[0m\u001b[1;33m\u001b[0m\u001b[0m\n\u001b[0m\u001b[0;32m     13\u001b[0m     \u001b[0mit\u001b[0m \u001b[1;33m=\u001b[0m \u001b[0mit\u001b[0m \u001b[1;33m+\u001b[0m \u001b[1;36m1\u001b[0m\u001b[1;33m\u001b[0m\u001b[1;33m\u001b[0m\u001b[0m\n\u001b[0;32m     14\u001b[0m \u001b[1;31m# Fin\u001b[0m\u001b[1;33m\u001b[0m\u001b[1;33m\u001b[0m\u001b[1;33m\u001b[0m\u001b[0m\n",
      "\u001b[1;32m<ipython-input-734-d3360c9dcf26>\u001b[0m in \u001b[0;36mh_F\u001b[1;34m(w)\u001b[0m\n\u001b[0;32m      2\u001b[0m \u001b[1;32mdef\u001b[0m \u001b[0mh_F\u001b[0m\u001b[1;33m(\u001b[0m\u001b[0mw\u001b[0m\u001b[1;33m)\u001b[0m\u001b[1;33m:\u001b[0m\u001b[1;33m\u001b[0m\u001b[1;33m\u001b[0m\u001b[0m\n\u001b[0;32m      3\u001b[0m     \u001b[0mI\u001b[0m\u001b[1;33m=\u001b[0m\u001b[0mnp\u001b[0m\u001b[1;33m.\u001b[0m\u001b[0meye\u001b[0m\u001b[1;33m(\u001b[0m\u001b[0md\u001b[0m\u001b[1;33m)\u001b[0m \u001b[1;31m#matrice identité_d\u001b[0m\u001b[1;33m\u001b[0m\u001b[1;33m\u001b[0m\u001b[0m\n\u001b[1;32m----> 4\u001b[1;33m     \u001b[1;32mreturn\u001b[0m \u001b[0mh_s_f\u001b[0m\u001b[1;33m(\u001b[0m\u001b[0mw\u001b[0m\u001b[1;33m)\u001b[0m \u001b[1;33m+\u001b[0m \u001b[0mg\u001b[0m\u001b[1;33m*\u001b[0m\u001b[0mI\u001b[0m\u001b[1;33m\u001b[0m\u001b[1;33m\u001b[0m\u001b[0m\n\u001b[0m",
      "\u001b[1;32m<ipython-input-733-9dea700ea399>\u001b[0m in \u001b[0;36mh_s_f\u001b[1;34m(w)\u001b[0m\n\u001b[0;32m      3\u001b[0m     \u001b[0ms\u001b[0m\u001b[1;33m=\u001b[0m\u001b[1;36m0\u001b[0m\u001b[1;33m\u001b[0m\u001b[1;33m\u001b[0m\u001b[0m\n\u001b[0;32m      4\u001b[0m     \u001b[1;32mfor\u001b[0m \u001b[0mi\u001b[0m \u001b[1;32min\u001b[0m \u001b[0mrange\u001b[0m\u001b[1;33m(\u001b[0m\u001b[0mn\u001b[0m\u001b[1;33m)\u001b[0m\u001b[1;33m:\u001b[0m\u001b[1;33m\u001b[0m\u001b[1;33m\u001b[0m\u001b[0m\n\u001b[1;32m----> 5\u001b[1;33m         \u001b[0ms\u001b[0m\u001b[1;33m=\u001b[0m\u001b[0ms\u001b[0m\u001b[1;33m+\u001b[0m\u001b[0mh_f\u001b[0m\u001b[1;33m(\u001b[0m\u001b[0mi\u001b[0m\u001b[1;33m,\u001b[0m\u001b[0mw\u001b[0m\u001b[1;33m)\u001b[0m\u001b[1;33m\u001b[0m\u001b[1;33m\u001b[0m\u001b[0m\n\u001b[0m\u001b[0;32m      6\u001b[0m     \u001b[1;32mreturn\u001b[0m \u001b[0ms\u001b[0m\u001b[1;33m\u001b[0m\u001b[1;33m\u001b[0m\u001b[0m\n",
      "\u001b[1;32m<ipython-input-731-4cda08e00287>\u001b[0m in \u001b[0;36mh_f\u001b[1;34m(a, w)\u001b[0m\n\u001b[0;32m      1\u001b[0m \u001b[1;31m#Définition hessienne fonction f_a_w\u001b[0m\u001b[1;33m\u001b[0m\u001b[1;33m\u001b[0m\u001b[1;33m\u001b[0m\u001b[0m\n\u001b[0;32m      2\u001b[0m \u001b[1;32mdef\u001b[0m \u001b[0mh_f\u001b[0m\u001b[1;33m(\u001b[0m\u001b[0ma\u001b[0m\u001b[1;33m,\u001b[0m\u001b[0mw\u001b[0m\u001b[1;33m)\u001b[0m\u001b[1;33m:\u001b[0m\u001b[1;33m\u001b[0m\u001b[1;33m\u001b[0m\u001b[0m\n\u001b[1;32m----> 3\u001b[1;33m     \u001b[0mt\u001b[0m\u001b[1;33m=\u001b[0m\u001b[0mnp\u001b[0m\u001b[1;33m.\u001b[0m\u001b[0mvdot\u001b[0m\u001b[1;33m(\u001b[0m\u001b[0mw\u001b[0m\u001b[1;33m,\u001b[0m\u001b[0mX\u001b[0m\u001b[1;33m[\u001b[0m\u001b[0ma\u001b[0m\u001b[1;33m]\u001b[0m\u001b[1;33m)\u001b[0m\u001b[1;33m\u001b[0m\u001b[1;33m\u001b[0m\u001b[0m\n\u001b[0m\u001b[0;32m      4\u001b[0m     \u001b[1;32mreturn\u001b[0m \u001b[0mt\u001b[0m\u001b[1;33m*\u001b[0m\u001b[1;33m(\u001b[0m\u001b[1;36m1\u001b[0m\u001b[1;33m-\u001b[0m\u001b[0mt\u001b[0m\u001b[1;33m)\u001b[0m\u001b[1;33m*\u001b[0m\u001b[0mnp\u001b[0m\u001b[1;33m.\u001b[0m\u001b[0mvdot\u001b[0m\u001b[1;33m(\u001b[0m\u001b[0mX\u001b[0m\u001b[1;33m[\u001b[0m\u001b[0ma\u001b[0m\u001b[1;33m]\u001b[0m\u001b[1;33m,\u001b[0m\u001b[0mnp\u001b[0m\u001b[1;33m.\u001b[0m\u001b[0mtranspose\u001b[0m\u001b[1;33m(\u001b[0m\u001b[0mX\u001b[0m\u001b[1;33m[\u001b[0m\u001b[0ma\u001b[0m\u001b[1;33m]\u001b[0m\u001b[1;33m)\u001b[0m\u001b[1;33m)\u001b[0m\u001b[1;33m\u001b[0m\u001b[1;33m\u001b[0m\u001b[0m\n",
      "\u001b[1;31mValueError\u001b[0m: cannot reshape array of size 2 into shape (4,)"
     ]
    }
   ],
   "source": [
    "# Paramètres\n",
    "tol = 1e-5; it_max = 1e2;\n",
    "\n",
    "# Initialisation\n",
    "w = np.zeros(shape=d)\n",
    "d_d = -linalg.inv(h_F(w))*grad_F(w) # descente de la méthode de Newton\n",
    "it = 0\n",
    "\n",
    "# Boucle\n",
    "while np.linalg.norm(grad_F(w)) > tol and it < it_max:\n",
    "    w = w + d_d\n",
    "    d_d= -linalg.inv(h_F(w))*grad_F(w)\n",
    "    it = it + 1 \n",
    "# Fin\n",
    "\n",
    "print(w)\n",
    "print(grad_F(w))"
   ]
  },
  {
   "cell_type": "code",
   "execution_count": 739,
   "metadata": {},
   "outputs": [],
   "source": [
    "# A refaire car PROBLEME DANS DEFINITION HESSIENNE de petit f"
   ]
  },
  {
   "cell_type": "markdown",
   "metadata": {},
   "source": [
    "## Etude du problème non régularisé"
   ]
  },
  {
   "cell_type": "code",
   "execution_count": 740,
   "metadata": {},
   "outputs": [],
   "source": [
    "g=0 #gamma = 0"
   ]
  },
  {
   "cell_type": "markdown",
   "metadata": {},
   "source": [
    "### Descente de gradient pas d'Armijo"
   ]
  },
  {
   "cell_type": "code",
   "execution_count": 741,
   "metadata": {},
   "outputs": [
    {
     "name": "stdout",
     "output_type": "stream",
     "text": [
      "[-2.8441344e+110 -2.8445431e+110]\n",
      "[-7.84987604e+111 -7.85100406e+111]\n"
     ]
    }
   ],
   "source": [
    "# Paramètres\n",
    "tol = 1e-5; it_max = 1e2; t = 0.1; c1 = 1e-3;\n",
    "\n",
    "# Initialisation\n",
    "alpha = 1/2\n",
    "w = np.zeros(shape=d)\n",
    "d_d = -grad_F(w)\n",
    "it = 0\n",
    "\n",
    "# Pas d'Armijo\n",
    "while F(w+alpha*d_d) <= F(w) + c1*alpha*np.vdot(grad_F(w),d_d):\n",
    "    alpha = t*alpha\n",
    "alpha_k = alpha\n",
    "\n",
    "# Boucle\n",
    "while np.linalg.norm(d_d) > tol and it < it_max:\n",
    "    w = w + alpha_k*d_d\n",
    "    d_d = -grad_F(w)\n",
    "    it = it + 1 \n",
    "# Fin\n",
    "\n",
    "print(w)\n",
    "print(grad_F(w))"
   ]
  },
  {
   "cell_type": "markdown",
   "metadata": {},
   "source": [
    "### Méthode de Newton "
   ]
  },
  {
   "cell_type": "code",
   "execution_count": 742,
   "metadata": {},
   "outputs": [],
   "source": [
    "# A FAIRE "
   ]
  },
  {
   "cell_type": "markdown",
   "metadata": {},
   "source": [
    "Une fois w trouvé, on peut utiliser u=u_w pour estimer la catégorie de points ne faisant pas partie du jeu de données\n",
    "u = u_w = sigma(w,x) "
   ]
  },
  {
   "cell_type": "code",
   "execution_count": 743,
   "metadata": {},
   "outputs": [],
   "source": [
    "w_min=w #on a trouvé le min de F"
   ]
  },
  {
   "cell_type": "code",
   "execution_count": 744,
   "metadata": {},
   "outputs": [],
   "source": [
    "def u_w(x):\n",
    "    t=np.vdot(w_min,x)\n",
    "    return sigma(t)"
   ]
  },
  {
   "cell_type": "code",
   "execution_count": 745,
   "metadata": {},
   "outputs": [
    {
     "data": {
      "image/png": "[encoded data removed]",
      "text/plain": [
       "<Figure size 432x288 with 1 Axes>"
      ]
     },
     "metadata": {
      "needs_background": "light"
     },
     "output_type": "display_data"
    }
   ],
   "source": [
    "plt.plot(X[:,0],X[:,1],'.',label='donnees')\n",
    "plt.legend()\n",
    "plt.show()"
   ]
  },
  {
   "cell_type": "code",
   "execution_count": 746,
   "metadata": {},
   "outputs": [],
   "source": [
    "#Construction matrice de jeu de données (on prend d=2)\n",
    "d=2\n",
    "W =np.eye(25,d) #points qui sont dans A_0\n",
    "W[:,0] = np.linspace(0,0.5,25)\n",
    "W[:,1] = np.random.rand(25)\n",
    "    \n",
    "\n",
    "Y =np.eye(25,d) #points qui sont dans A_1\n",
    "Y[:,0] = np.linspace(0.5,1,25)\n",
    "Y[:,1] = np.random.rand(25)\n",
    "\n",
    "X=np.eye(n,d) #matrice complète des jeux de données\n",
    "for i in range(24):\n",
    "    X[i]=W[i]\n",
    "for i in range(24):\n",
    "    X[25+i]=Y[i]"
   ]
  },
  {
   "cell_type": "code",
   "execution_count": 747,
   "metadata": {},
   "outputs": [
    {
     "data": {
      "image/png": "[encoded data removed]",
      "text/plain": [
       "<Figure size 432x288 with 1 Axes>"
      ]
     },
     "metadata": {
      "needs_background": "light"
     },
     "output_type": "display_data"
    }
   ],
   "source": [
    "plt.scatter(W[:,0], W[:,1], c='coral', label='Points dans A_0')\n",
    "plt.scatter(Y[:,0], Y[:,1], c='blue', label='Points dans A_1')\n",
    "plt.title('Nuage de points')\n",
    "plt.show()"
   ]
  },
  {
   "cell_type": "code",
   "execution_count": 702,
   "metadata": {},
   "outputs": [],
   "source": [
    "x=np.random.rand(d)"
   ]
  },
  {
   "cell_type": "code",
   "execution_count": 703,
   "metadata": {},
   "outputs": [
    {
     "data": {
      "text/plain": [
       "0.0"
      ]
     },
     "execution_count": 703,
     "metadata": {},
     "output_type": "execute_result"
    }
   ],
   "source": [
    "u_w(x)"
   ]
  },
  {
   "cell_type": "code",
   "execution_count": null,
   "metadata": {},
   "outputs": [],
   "source": []
  }
 ],
 "metadata": {
  "kernelspec": {
   "display_name": "Python 3",
   "language": "python",
   "name": "python3"
  },
  "language_info": {
   "codemirror_mode": {
    "name": "ipython",
    "version": 3
   },
   "file_extension": ".py",
   "mimetype": "text/x-python",
   "name": "python",
   "nbconvert_exporter": "python",
   "pygments_lexer": "ipython3",
   "version": "3.7.3"
  }
 },
 "nbformat": 4,
 "nbformat_minor": 2
}
